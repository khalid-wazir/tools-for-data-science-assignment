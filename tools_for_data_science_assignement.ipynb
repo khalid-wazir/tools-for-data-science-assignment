{
 "cells": [
  {
   "cell_type": "markdown",
   "id": "0a96b937-b564-408d-b75b-fabe53e6a15e",
   "metadata": {
    "tags": []
   },
   "source": [
    "# Data Science Tools and Ecosystem"
   ]
  },
  {
   "cell_type": "markdown",
   "id": "54b31562-04ce-4b8d-b364-4942385298a6",
   "metadata": {
    "tags": []
   },
   "source": [
    "In this notebook, we provide a summary of the Data Science Tools and Ecosystem, exploring various tools and technologies used in the field of data science."
   ]
  },
  {
   "cell_type": "markdown",
   "id": "4f531ad6-627c-41e5-8c82-e022885bb3dd",
   "metadata": {},
   "source": [
    "### Overview:\n",
    "Some of the popular languages that Data Scientists use are:\n",
    "\n",
    "1. Python\n",
    "2. R\n",
    "3. SQL\n"
   ]
  },
  {
   "cell_type": "markdown",
   "id": "1fabdb31-4834-4423-8125-835696f24cc2",
   "metadata": {
    "tags": []
   },
   "source": [
    "### Overview:\n",
    "Some of the commonly used libraries used by Data Scientists include:\n",
    "\n",
    "1. NumPy\n",
    "2. Pandas\n",
    "3. Matplotlib\n"
   ]
  },
  {
   "cell_type": "markdown",
   "id": "734f59c5-c1d1-4c16-a3a3-b0f5cc3829cc",
   "metadata": {},
   "source": [
    "| Data Science Tools |\n",
    "| ------------------ |\n",
    "| Jupyter Notebook   |\n",
    "| RStudio            |\n",
    "| VS Code            |"
   ]
  },
  {
   "cell_type": "markdown",
   "id": "0e68f47b-30a7-4219-b654-290ac2fa5032",
   "metadata": {},
   "source": [
    "### Examples of Evaluating Arithmetic Expressions in Python\n"
   ]
  },
  {
   "cell_type": "markdown",
   "id": "fbf99679-c494-4b8d-aadd-996192d77aa7",
   "metadata": {},
   "source": [
    "# This is a simple arithmetic expression to multiply then add integers.\n",
    "result = (3 * 4) + 5\n",
    "result\n"
   ]
  },
  {
   "cell_type": "markdown",
   "id": "bca61686-a6dc-4cfd-906c-e64b8b60327e",
   "metadata": {},
   "source": [
    "# This will convert 200 minutes to hours by dividing by 60.\n",
    "hours = 200 / 60\n",
    "hours\n"
   ]
  },
  {
   "cell_type": "markdown",
   "id": "8960c28c-d9cd-424b-b860-47a44ed33512",
   "metadata": {},
   "source": [
    "**Objectives:**\n",
    "\n",
    "- List popular languages for Data Science.\n",
    "- Discuss commonly used libraries in Data Science.\n",
    "- Explore development environment open source tools for Data Science.\n",
    "- Provide examples of evaluating arithmetic expressions in Python.\n",
    "- Demonstrate conversion of minutes to hours in Python.\n"
   ]
  },
  {
   "cell_type": "markdown",
   "id": "f07c2855-4371-48d1-971f-a7cf67886c0f",
   "metadata": {},
   "source": [
    "## Author\n",
    "Your Name\n"
   ]
  },
  {
   "cell_type": "code",
   "execution_count": null,
   "id": "ab5eefa8-0ce8-4753-b190-d5630dd29c6f",
   "metadata": {},
   "outputs": [],
   "source": []
  }
 ],
 "metadata": {
  "kernelspec": {
   "display_name": "Python",
   "language": "python",
   "name": "conda-env-python-py"
  },
  "language_info": {
   "codemirror_mode": {
    "name": "ipython",
    "version": 3
   },
   "file_extension": ".py",
   "mimetype": "text/x-python",
   "name": "python",
   "nbconvert_exporter": "python",
   "pygments_lexer": "ipython3",
   "version": "3.7.12"
  }
 },
 "nbformat": 4,
 "nbformat_minor": 5
}
